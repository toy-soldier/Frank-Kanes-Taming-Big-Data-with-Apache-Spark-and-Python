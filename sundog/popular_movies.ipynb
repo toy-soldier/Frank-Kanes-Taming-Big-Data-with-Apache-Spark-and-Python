{
 "cells": [
  {
   "cell_type": "code",
   "execution_count": 1,
   "id": "30d9c5f0",
   "metadata": {},
   "outputs": [],
   "source": [
    "from pyspark.sql import SparkSession\n",
    "\n",
    "DIRPATH = \"C:/Users/sanjay s risbud/Downloads/sundog/\"\n",
    "spark = SparkSession.builder.master(\"local\").appName(\"Exercise\").getOrCreate()"
   ]
  },
  {
   "cell_type": "code",
   "execution_count": 7,
   "id": "a99e2101",
   "metadata": {},
   "outputs": [
    {
     "name": "stdout",
     "output_type": "stream",
     "text": [
      "+--------+-------+\n",
      "|movie_id|user_id|\n",
      "+--------+-------+\n",
      "|     242|    196|\n",
      "|     302|    186|\n",
      "|     377|     22|\n",
      "|      51|    244|\n",
      "|     346|    166|\n",
      "|     474|    298|\n",
      "|     265|    115|\n",
      "|     465|    253|\n",
      "|     451|    305|\n",
      "|      86|      6|\n",
      "|     257|     62|\n",
      "|    1014|    286|\n",
      "|     222|    200|\n",
      "|      40|    210|\n",
      "|      29|    224|\n",
      "|     785|    303|\n",
      "|     387|    122|\n",
      "|     274|    194|\n",
      "|    1042|    291|\n",
      "|    1184|    234|\n",
      "+--------+-------+\n",
      "only showing top 20 rows\n",
      "\n"
     ]
    }
   ],
   "source": [
    "from pyspark.sql.functions import split\n",
    "lines = spark.read.text(DIRPATH + \"/ml-100k/u.data\")\n",
    "df = lines.withColumn(\"parsed\", split(lines[\"value\"], \"\\s+\"))\n",
    "df = df.withColumn(\"movie_id\", df[\"parsed\"][1]).withColumn(\"user_id\", df[\"parsed\"][0]).select([\"movie_id\", \"user_id\"])"
   ]
  },
  {
   "cell_type": "code",
   "execution_count": 20,
   "id": "aefd3ea7",
   "metadata": {},
   "outputs": [
    {
     "name": "stdout",
     "output_type": "stream",
     "text": [
      "+--------+-----+\n",
      "|movie_id|count|\n",
      "+--------+-----+\n",
      "|      50|  583|\n",
      "|     258|  509|\n",
      "|     100|  508|\n",
      "|     181|  507|\n",
      "|     294|  485|\n",
      "|     286|  481|\n",
      "|     288|  478|\n",
      "|       1|  452|\n",
      "|     300|  431|\n",
      "|     121|  429|\n",
      "+--------+-----+\n",
      "\n"
     ]
    }
   ],
   "source": [
    "from pyspark.sql.functions import desc\n",
    "popular_list = df.groupBy(\"movie_id\").count().orderBy(desc(\"count\")).head(10)\n",
    "popular_df = spark.createDataFrame(popular_list)\n",
    "popular_df.show()"
   ]
  },
  {
   "cell_type": "code",
   "execution_count": 31,
   "id": "b910776c",
   "metadata": {},
   "outputs": [
    {
     "name": "stdout",
     "output_type": "stream",
     "text": [
      "+-----------------------------+-----+\n",
      "|name                         |count|\n",
      "+-----------------------------+-----+\n",
      "|Star Wars (1977)             |583  |\n",
      "|Contact (1997)               |509  |\n",
      "|Fargo (1996)                 |508  |\n",
      "|Return of the Jedi (1983)    |507  |\n",
      "|Liar Liar (1997)             |485  |\n",
      "|English Patient, The (1996)  |481  |\n",
      "|Scream (1996)                |478  |\n",
      "|Toy Story (1995)             |452  |\n",
      "|Air Force One (1997)         |431  |\n",
      "|Independence Day (ID4) (1996)|429  |\n",
      "+-----------------------------+-----+\n",
      "\n"
     ]
    }
   ],
   "source": [
    "movies_df = spark.read.csv(DIRPATH + \"ml-100k/u.item\", sep=\"|\")\n",
    "movies_df = movies_df.select(movies_df[\"_c0\"].alias(\"movie_id\"), movies_df[\"_c1\"].alias(\"name\"))\n",
    "movies_df.join(popular_df, on=\"movie_id\").select([\"name\", \"count\"]).show(truncate=False)"
   ]
  },
  {
   "cell_type": "code",
   "execution_count": 32,
   "id": "e143077f",
   "metadata": {},
   "outputs": [],
   "source": [
    "spark.stop()"
   ]
  }
 ],
 "metadata": {
  "kernelspec": {
   "display_name": "Python 3 (ipykernel)",
   "language": "python",
   "name": "python3"
  },
  "language_info": {
   "codemirror_mode": {
    "name": "ipython",
    "version": 3
   },
   "file_extension": ".py",
   "mimetype": "text/x-python",
   "name": "python",
   "nbconvert_exporter": "python",
   "pygments_lexer": "ipython3",
   "version": "3.9.6"
  }
 },
 "nbformat": 4,
 "nbformat_minor": 5
}
