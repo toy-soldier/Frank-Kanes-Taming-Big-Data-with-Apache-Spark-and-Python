{
 "cells": [
  {
   "cell_type": "code",
   "execution_count": 1,
   "id": "30d9c5f0",
   "metadata": {},
   "outputs": [],
   "source": [
    "from pyspark.sql import SparkSession\n",
    "\n",
    "DIRPATH = \"C:/Users/sanjay s risbud/Downloads/sundog/\"\n",
    "spark = SparkSession.builder.master(\"local\").appName(\"Exercise\").getOrCreate()"
   ]
  },
  {
   "cell_type": "code",
   "execution_count": 16,
   "id": "a99e2101",
   "metadata": {},
   "outputs": [
    {
     "name": "stdout",
     "output_type": "stream",
     "text": [
      "+---+-----------+\n",
      "|age|avg friends|\n",
      "+---+-----------+\n",
      "| 69|        235|\n",
      "| 68|        270|\n",
      "| 67|        215|\n",
      "| 66|        276|\n",
      "| 65|        298|\n",
      "| 64|        281|\n",
      "| 63|        384|\n",
      "| 62|        221|\n",
      "| 61|        256|\n",
      "| 60|        203|\n",
      "| 59|        220|\n",
      "| 58|        117|\n",
      "| 57|        259|\n",
      "| 56|        307|\n",
      "| 55|        296|\n",
      "| 54|        278|\n",
      "| 53|        223|\n",
      "| 52|        341|\n",
      "| 51|        302|\n",
      "| 50|        255|\n",
      "+---+-----------+\n",
      "only showing top 20 rows\n",
      "\n"
     ]
    }
   ],
   "source": [
    "from pyspark.sql.functions import format_number, avg\n",
    "df = spark.read.csv(DIRPATH + \"/fakefriends.csv\", inferSchema=True)\n",
    "df = df.withColumnRenamed(\"_c2\", \"age\").withColumnRenamed(\"_c3\", \"friends\").drop(df[\"_c0\"]).drop(df[\"_c1\"])\n",
    "df.groupBy(\"age\").agg(format_number(avg(df[\"friends\"]), 0).alias(\"avg friends\")).orderBy(df[\"age\"].desc()).show()"
   ]
  },
  {
   "cell_type": "code",
   "execution_count": null,
   "id": "aefd3ea7",
   "metadata": {},
   "outputs": [],
   "source": []
  }
 ],
 "metadata": {
  "kernelspec": {
   "display_name": "Python 3 (ipykernel)",
   "language": "python",
   "name": "python3"
  },
  "language_info": {
   "codemirror_mode": {
    "name": "ipython",
    "version": 3
   },
   "file_extension": ".py",
   "mimetype": "text/x-python",
   "name": "python",
   "nbconvert_exporter": "python",
   "pygments_lexer": "ipython3",
   "version": "3.9.6"
  }
 },
 "nbformat": 4,
 "nbformat_minor": 5
}
