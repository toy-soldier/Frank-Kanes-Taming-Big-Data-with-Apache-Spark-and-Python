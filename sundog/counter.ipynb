{
 "cells": [
  {
   "cell_type": "code",
   "execution_count": 3,
   "id": "30d9c5f0",
   "metadata": {},
   "outputs": [],
   "source": [
    "from pyspark.sql import SparkSession\n",
    "\n",
    "DIRPATH = \"C:/Users/sanjay s risbud/Downloads/sundog/\"\n",
    "spark = SparkSession.builder.master(\"local\").appName(\"Exercise\").getOrCreate()"
   ]
  },
  {
   "cell_type": "code",
   "execution_count": 6,
   "id": "a99e2101",
   "metadata": {},
   "outputs": [
    {
     "name": "stdout",
     "output_type": "stream",
     "text": [
      "+-----------+-----+\n",
      "|customer_id|price|\n",
      "+-----------+-----+\n",
      "|         44|37.19|\n",
      "|         35|65.89|\n",
      "|          2|40.64|\n",
      "|         47|14.98|\n",
      "|         29|13.08|\n",
      "|         91|24.59|\n",
      "|         70|68.68|\n",
      "|         85|28.53|\n",
      "|         53|83.55|\n",
      "|         14| 4.32|\n",
      "|         51| 19.8|\n",
      "|         42|57.77|\n",
      "|          2|55.77|\n",
      "|         79|33.17|\n",
      "|         50|23.57|\n",
      "|         20| 6.49|\n",
      "|         15|65.53|\n",
      "|         44|99.19|\n",
      "|          5|64.18|\n",
      "|         48|32.42|\n",
      "+-----------+-----+\n",
      "only showing top 20 rows\n",
      "\n"
     ]
    }
   ],
   "source": [
    "from pyspark.sql.functions import sum\n",
    "df = spark.read.csv(DIRPATH + \"customer-orders.csv\", inferSchema=True).drop(\"_c1\").withColumnRenamed(\"_c0\", \"customer_id\").withColumnRenamed(\"_c2\", \"price\")\n",
    "df.show()"
   ]
  },
  {
   "cell_type": "code",
   "execution_count": 13,
   "id": "aefd3ea7",
   "metadata": {},
   "outputs": [
    {
     "name": "stdout",
     "output_type": "stream",
     "text": [
      "+-----------+--------+\n",
      "|customer_id|   total|\n",
      "+-----------+--------+\n",
      "|         68|6,375.45|\n",
      "|         73|6,206.20|\n",
      "|         39|6,193.11|\n",
      "|         54|6,065.39|\n",
      "|         71|5,995.66|\n",
      "|          2|5,994.59|\n",
      "|         97|5,977.19|\n",
      "|         46|5,963.11|\n",
      "|         42|5,696.84|\n",
      "|         59|5,642.89|\n",
      "|         41|5,637.62|\n",
      "|          0|5,524.95|\n",
      "|          8|5,517.24|\n",
      "|         85|5,503.43|\n",
      "|         61|5,497.48|\n",
      "|         32|5,496.05|\n",
      "|         58|5,437.73|\n",
      "|         63|5,415.15|\n",
      "|         15|5,413.51|\n",
      "|          6|5,397.88|\n",
      "+-----------+--------+\n",
      "only showing top 20 rows\n",
      "\n"
     ]
    }
   ],
   "source": [
    "from pyspark.sql.functions import col, format_number, sum\n",
    "df.groupBy(\"customer_id\").agg(format_number(sum(df[\"price\"]), 2).alias(\"total\")).orderBy(col(\"total\").desc()).show()"
   ]
  }
 ],
 "metadata": {
  "kernelspec": {
   "display_name": "Python 3 (ipykernel)",
   "language": "python",
   "name": "python3"
  },
  "language_info": {
   "codemirror_mode": {
    "name": "ipython",
    "version": 3
   },
   "file_extension": ".py",
   "mimetype": "text/x-python",
   "name": "python",
   "nbconvert_exporter": "python",
   "pygments_lexer": "ipython3",
   "version": "3.9.6"
  }
 },
 "nbformat": 4,
 "nbformat_minor": 5
}
