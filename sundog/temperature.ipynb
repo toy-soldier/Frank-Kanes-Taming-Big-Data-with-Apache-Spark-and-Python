{
 "cells": [
  {
   "cell_type": "code",
   "execution_count": 1,
   "id": "30d9c5f0",
   "metadata": {},
   "outputs": [],
   "source": [
    "from pyspark.sql import SparkSession\n",
    "\n",
    "DIRPATH = \"C:/Users/sanjay s risbud/Downloads/sundog/\"\n",
    "spark = SparkSession.builder.master(\"local\").appName(\"Exercise\").getOrCreate()"
   ]
  },
  {
   "cell_type": "code",
   "execution_count": 2,
   "id": "a99e2101",
   "metadata": {},
   "outputs": [
    {
     "name": "stdout",
     "output_type": "stream",
     "text": [
      "+-----------+--------+----+----+----+----+---+----+----------+\n",
      "|        _c0|     _c1| _c2| _c3| _c4| _c5|_c6| _c7|fahrenheit|\n",
      "+-----------+--------+----+----+----+----+---+----+----------+\n",
      "|ITE00100554|18000101|TMAX| -75|null|null|  E|null|      18.5|\n",
      "|ITE00100554|18000101|TMIN|-148|null|null|  E|null|      5.36|\n",
      "|EZE00100082|18000101|TMAX| -86|null|null|  E|null|     16.52|\n",
      "|EZE00100082|18000101|TMIN|-135|null|null|  E|null|       7.7|\n",
      "|ITE00100554|18000102|TMAX| -60|null|   I|  E|null|      21.2|\n",
      "|ITE00100554|18000102|TMIN|-125|null|null|  E|null|       9.5|\n",
      "|EZE00100082|18000102|TMAX| -44|null|null|  E|null|     24.08|\n",
      "|EZE00100082|18000102|TMIN|-130|null|null|  E|null|       8.6|\n",
      "|ITE00100554|18000103|TMAX| -23|null|null|  E|null|     27.86|\n",
      "|ITE00100554|18000103|TMIN| -46|null|   I|  E|null|     23.72|\n",
      "|EZE00100082|18000103|TMAX| -10|null|null|  E|null|      30.2|\n",
      "|EZE00100082|18000103|TMIN| -73|null|null|  E|null|     18.86|\n",
      "|ITE00100554|18000104|TMAX|   0|null|null|  E|null|      32.0|\n",
      "|ITE00100554|18000104|TMIN| -13|null|null|  E|null|     29.66|\n",
      "|EZE00100082|18000104|TMAX| -55|null|null|  E|null|      22.1|\n",
      "|EZE00100082|18000104|TMIN| -74|null|null|  E|null|     18.68|\n",
      "|ITE00100554|18000105|TMAX|  10|null|null|  E|null|      33.8|\n",
      "|ITE00100554|18000105|TMIN|  -6|null|null|  E|null|     30.92|\n",
      "|EZE00100082|18000105|TMAX| -40|null|null|  E|null|      24.8|\n",
      "|EZE00100082|18000105|TMIN| -58|null|null|  E|null|     21.56|\n",
      "+-----------+--------+----+----+----+----+---+----+----------+\n",
      "only showing top 20 rows\n",
      "\n"
     ]
    }
   ],
   "source": [
    "from pyspark.sql.functions import format_number\n",
    "df = spark.read.csv(DIRPATH + \"1800.csv\", inferSchema=True)\n",
    "df = df.filter((df[\"_c2\"] == \"TMIN\") | (df[\"_c2\"] == \"TMAX\"))\\\n",
    "        .withColumn(\"fahrenheit\", format_number(((df[\"_c3\"] * 0.1 * 9/5) + 32), 2).cast(\"float\"))\n",
    "df.show()"
   ]
  },
  {
   "cell_type": "code",
   "execution_count": 3,
   "id": "d4aff8d4",
   "metadata": {},
   "outputs": [
    {
     "name": "stdout",
     "output_type": "stream",
     "text": [
      "root\n",
      " |-- _c0: string (nullable = true)\n",
      " |-- _c1: integer (nullable = true)\n",
      " |-- _c2: string (nullable = true)\n",
      " |-- _c3: integer (nullable = true)\n",
      " |-- _c4: string (nullable = true)\n",
      " |-- _c5: string (nullable = true)\n",
      " |-- _c6: string (nullable = true)\n",
      " |-- _c7: string (nullable = true)\n",
      " |-- fahrenheit: float (nullable = true)\n",
      "\n"
     ]
    }
   ],
   "source": [
    "df.printSchema()"
   ]
  },
  {
   "cell_type": "code",
   "execution_count": 4,
   "id": "095369a1",
   "metadata": {},
   "outputs": [
    {
     "name": "stdout",
     "output_type": "stream",
     "text": [
      "+-----------+--------+----------+\n",
      "| station_id|    date|fahrenheit|\n",
      "+-----------+--------+----------+\n",
      "|ITE00100554|18000101|      18.5|\n",
      "|ITE00100554|18000101|      5.36|\n",
      "|EZE00100082|18000101|     16.52|\n",
      "|EZE00100082|18000101|       7.7|\n",
      "|ITE00100554|18000102|      21.2|\n",
      "|ITE00100554|18000102|       9.5|\n",
      "|EZE00100082|18000102|     24.08|\n",
      "|EZE00100082|18000102|       8.6|\n",
      "|ITE00100554|18000103|     27.86|\n",
      "|ITE00100554|18000103|     23.72|\n",
      "|EZE00100082|18000103|      30.2|\n",
      "|EZE00100082|18000103|     18.86|\n",
      "|ITE00100554|18000104|      32.0|\n",
      "|ITE00100554|18000104|     29.66|\n",
      "|EZE00100082|18000104|      22.1|\n",
      "|EZE00100082|18000104|     18.68|\n",
      "|ITE00100554|18000105|      33.8|\n",
      "|ITE00100554|18000105|     30.92|\n",
      "|EZE00100082|18000105|      24.8|\n",
      "|EZE00100082|18000105|     21.56|\n",
      "+-----------+--------+----------+\n",
      "only showing top 20 rows\n",
      "\n",
      "+-----------+--------+----------+\n",
      "| station_id|    date|fahrenheit|\n",
      "+-----------+--------+----------+\n",
      "|ITE00100554|18000101|      18.5|\n",
      "|ITE00100554|18000101|      5.36|\n",
      "|EZE00100082|18000101|     16.52|\n",
      "|EZE00100082|18000101|       7.7|\n",
      "|ITE00100554|18000102|      21.2|\n",
      "|ITE00100554|18000102|       9.5|\n",
      "|EZE00100082|18000102|     24.08|\n",
      "|EZE00100082|18000102|       8.6|\n",
      "|ITE00100554|18000103|     27.86|\n",
      "|ITE00100554|18000103|     23.72|\n",
      "|EZE00100082|18000103|      30.2|\n",
      "|EZE00100082|18000103|     18.86|\n",
      "|ITE00100554|18000104|      32.0|\n",
      "|ITE00100554|18000104|     29.66|\n",
      "|EZE00100082|18000104|      22.1|\n",
      "|EZE00100082|18000104|     18.68|\n",
      "|ITE00100554|18000105|      33.8|\n",
      "|ITE00100554|18000105|     30.92|\n",
      "|EZE00100082|18000105|      24.8|\n",
      "|EZE00100082|18000105|     21.56|\n",
      "+-----------+--------+----------+\n",
      "only showing top 20 rows\n",
      "\n"
     ]
    }
   ],
   "source": [
    "columns = [f\"_c{i}\" for i in range(2, 8)]\n",
    "df = df.drop(*columns).withColumnRenamed(\"_c0\", \"station_id\").withColumnRenamed(\"_c1\", \"date\")\n",
    "df.show()\n",
    "df.show()"
   ]
  },
  {
   "cell_type": "code",
   "execution_count": 5,
   "id": "aefd3ea7",
   "metadata": {},
   "outputs": [
    {
     "name": "stdout",
     "output_type": "stream",
     "text": [
      "+-----------+----+-----+\n",
      "| station_id| low| high|\n",
      "+-----------+----+-----+\n",
      "|ITE00100554|5.36|90.14|\n",
      "|EZE00100082| 7.7|90.14|\n",
      "+-----------+----+-----+\n",
      "\n"
     ]
    }
   ],
   "source": [
    "from pyspark.sql.functions import min, max\n",
    "grouped_df = df.groupBy(\"station_id\").agg(min(df[\"fahrenheit\"]).alias(\"low\"), max(df[\"fahrenheit\"]).alias(\"high\"))\n",
    "grouped_df.show()"
   ]
  },
  {
   "cell_type": "code",
   "execution_count": 6,
   "id": "2bf093c9",
   "metadata": {},
   "outputs": [
    {
     "name": "stdout",
     "output_type": "stream",
     "text": [
      "+----+-----+-----------+--------+----------+\n",
      "| low| high| station_id|    date|fahrenheit|\n",
      "+----+-----+-----------+--------+----------+\n",
      "|5.36| null|ITE00100554|18000101|      5.36|\n",
      "| 7.7| null|EZE00100082|18000101|       7.7|\n",
      "|null|90.14|EZE00100082|18000818|     90.14|\n",
      "|null|90.14|ITE00100554|18000819|     90.14|\n",
      "+----+-----+-----------+--------+----------+\n",
      "\n"
     ]
    }
   ],
   "source": [
    "from pyspark.sql.functions import lit\n",
    "low_condition = [df[\"station_id\"] == grouped_df[\"station_id\"], df[\"fahrenheit\"] == grouped_df[\"low\"]]\n",
    "high_condition = [df[\"station_id\"] == grouped_df[\"station_id\"], df[\"fahrenheit\"] == grouped_df[\"high\"]]\n",
    "low_df = grouped_df.join(df, on=low_condition).drop(df[\"station_id\"]).withColumn(\"high\", lit(None))\n",
    "high_df = grouped_df.join(df, on=high_condition).drop(df[\"station_id\"]).withColumn(\"low\", lit(None))\n",
    "low_df.unionAll(high_df).show()"
   ]
  },
  {
   "cell_type": "code",
   "execution_count": null,
   "id": "04f6471f",
   "metadata": {},
   "outputs": [],
   "source": []
  }
 ],
 "metadata": {
  "kernelspec": {
   "display_name": "Python 3 (ipykernel)",
   "language": "python",
   "name": "python3"
  },
  "language_info": {
   "codemirror_mode": {
    "name": "ipython",
    "version": 3
   },
   "file_extension": ".py",
   "mimetype": "text/x-python",
   "name": "python",
   "nbconvert_exporter": "python",
   "pygments_lexer": "ipython3",
   "version": "3.9.6"
  }
 },
 "nbformat": 4,
 "nbformat_minor": 5
}
