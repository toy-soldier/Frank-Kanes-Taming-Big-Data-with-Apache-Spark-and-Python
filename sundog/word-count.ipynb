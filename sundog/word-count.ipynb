{
 "cells": [
  {
   "cell_type": "code",
   "execution_count": 1,
   "id": "30d9c5f0",
   "metadata": {},
   "outputs": [],
   "source": [
    "from pyspark.sql import SparkSession\n",
    "\n",
    "DIRPATH = \"C:/Users/sanjay s risbud/Downloads/sundog/\"\n",
    "spark = SparkSession.builder.master(\"local\").appName(\"Exercise\").getOrCreate()"
   ]
  },
  {
   "cell_type": "code",
   "execution_count": 2,
   "id": "a99e2101",
   "metadata": {},
   "outputs": [
    {
     "name": "stdout",
     "output_type": "stream",
     "text": [
      "+--------------------+--------------------+\n",
      "|               value|               words|\n",
      "+--------------------+--------------------+\n",
      "|Self-Employment: ...|[self, employment...|\n",
      "|Achieving Financi...|[achieving, finan...|\n",
      "|       By Frank Kane|   [by, frank, kane]|\n",
      "|Copyright � 2015 ...|[copyright, 2015,...|\n",
      "|All rights reserv...|[all, rights, res...|\n",
      "|            CONTENTS|          [contents]|\n",
      "|          Disclaimer|        [disclaimer]|\n",
      "|             Preface|           [preface]|\n",
      "|Part I: Making th...|[part, i, making,...|\n",
      "|  Overcoming Inertia|[overcoming, iner...|\n",
      "|     Fear of Failure| [fear, of, failure]|\n",
      "|Career Indoctrina...|[career, indoctri...|\n",
      "|The Carrot on a S...|[the, carrot, on,...|\n",
      "|      Ego Protection|   [ego, protection]|\n",
      "|Your Employer as ...|[your, employer, ...|\n",
      "|   Why it�s Worth it|[why, it, s, wort...|\n",
      "|Unlimited Growth ...|[unlimited, growt...|\n",
      "|Investing in Your...|[investing, in, y...|\n",
      "|     No Dependencies|  [no, dependencies]|\n",
      "|          No Commute|       [no, commute]|\n",
      "+--------------------+--------------------+\n",
      "only showing top 20 rows\n",
      "\n"
     ]
    }
   ],
   "source": [
    "from pyspark.sql.functions import split, lower, regexp_replace\n",
    "lines = spark.read.text(DIRPATH + \"book.txt\")\n",
    "df = lines.filter(lines[\"value\"] != \"\").withColumn(\"words\", split(lower(lines[\"value\"]), r\"\\W+\"))\n",
    "df.show()"
   ]
  },
  {
   "cell_type": "code",
   "execution_count": 3,
   "id": "77fa88bd",
   "metadata": {},
   "outputs": [
    {
     "name": "stdout",
     "output_type": "stream",
     "text": [
      "+----------+\n",
      "|       col|\n",
      "+----------+\n",
      "|      self|\n",
      "|employment|\n",
      "|  building|\n",
      "|        an|\n",
      "|  internet|\n",
      "|  business|\n",
      "|        of|\n",
      "|       one|\n",
      "| achieving|\n",
      "| financial|\n",
      "|       and|\n",
      "|  personal|\n",
      "|   freedom|\n",
      "|   through|\n",
      "|         a|\n",
      "| lifestyle|\n",
      "|technology|\n",
      "|  business|\n",
      "|        by|\n",
      "|     frank|\n",
      "+----------+\n",
      "only showing top 20 rows\n",
      "\n"
     ]
    }
   ],
   "source": [
    "from pyspark.sql.functions import explode\n",
    "df = df.select(explode(df[\"words\"]))\n",
    "df.show()"
   ]
  },
  {
   "cell_type": "code",
   "execution_count": 4,
   "id": "a17cb946",
   "metadata": {},
   "outputs": [
    {
     "name": "stdout",
     "output_type": "stream",
     "text": [
      "+--------+-----+\n",
      "|     col|count|\n",
      "+--------+-----+\n",
      "|     you| 1878|\n",
      "|      to| 1828|\n",
      "|    your| 1420|\n",
      "|     the| 1292|\n",
      "|       a| 1191|\n",
      "|      of|  970|\n",
      "|     and|  934|\n",
      "|    that|  747|\n",
      "|        |  672|\n",
      "|      it|  649|\n",
      "|      in|  616|\n",
      "|      is|  560|\n",
      "|     for|  537|\n",
      "|      on|  428|\n",
      "|     are|  424|\n",
      "|      if|  411|\n",
      "|       s|  391|\n",
      "|       i|  387|\n",
      "|business|  383|\n",
      "|     can|  376|\n",
      "+--------+-----+\n",
      "only showing top 20 rows\n",
      "\n"
     ]
    }
   ],
   "source": [
    "df = df.groupBy(\"col\").count()\n",
    "df.orderBy(df[\"count\"].desc()).show()"
   ]
  }
 ],
 "metadata": {
  "kernelspec": {
   "display_name": "Python 3 (ipykernel)",
   "language": "python",
   "name": "python3"
  },
  "language_info": {
   "codemirror_mode": {
    "name": "ipython",
    "version": 3
   },
   "file_extension": ".py",
   "mimetype": "text/x-python",
   "name": "python",
   "nbconvert_exporter": "python",
   "pygments_lexer": "ipython3",
   "version": "3.9.6"
  }
 },
 "nbformat": 4,
 "nbformat_minor": 5
}
