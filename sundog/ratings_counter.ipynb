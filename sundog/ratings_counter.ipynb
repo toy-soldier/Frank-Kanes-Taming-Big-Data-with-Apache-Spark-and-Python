{
 "cells": [
  {
   "cell_type": "code",
   "execution_count": 1,
   "id": "30d9c5f0",
   "metadata": {},
   "outputs": [],
   "source": [
    "from pyspark.sql import SparkSession\n",
    "\n",
    "DIRPATH = \"C:/Users/sanjay s risbud/Downloads/sundog/\"\n",
    "spark = SparkSession.builder.master(\"local\").appName(\"Exercise\").getOrCreate()"
   ]
  },
  {
   "cell_type": "code",
   "execution_count": 2,
   "id": "a99e2101",
   "metadata": {},
   "outputs": [
    {
     "name": "stdout",
     "output_type": "stream",
     "text": [
      "+------+-----+\n",
      "|rating|count|\n",
      "+------+-----+\n",
      "|     1| 6110|\n",
      "|     2|11370|\n",
      "|     3|27145|\n",
      "|     4|34174|\n",
      "|     5|21201|\n",
      "+------+-----+\n",
      "\n"
     ]
    }
   ],
   "source": [
    "from pyspark.sql.functions import split\n",
    "lines = spark.read.text(DIRPATH + \"/ml-100k/u.data\")\n",
    "df = lines.withColumn(\"rating\", split(lines[\"value\"], \"\\s+\")[2]).drop(lines[\"value\"])\n",
    "df.groupBy(\"rating\").count().orderBy(\"rating\").show()"
   ]
  },
  {
   "cell_type": "code",
   "execution_count": null,
   "id": "aefd3ea7",
   "metadata": {},
   "outputs": [],
   "source": []
  }
 ],
 "metadata": {
  "kernelspec": {
   "display_name": "Python 3 (ipykernel)",
   "language": "python",
   "name": "python3"
  },
  "language_info": {
   "codemirror_mode": {
    "name": "ipython",
    "version": 3
   },
   "file_extension": ".py",
   "mimetype": "text/x-python",
   "name": "python",
   "nbconvert_exporter": "python",
   "pygments_lexer": "ipython3",
   "version": "3.9.6"
  }
 },
 "nbformat": 4,
 "nbformat_minor": 5
}
