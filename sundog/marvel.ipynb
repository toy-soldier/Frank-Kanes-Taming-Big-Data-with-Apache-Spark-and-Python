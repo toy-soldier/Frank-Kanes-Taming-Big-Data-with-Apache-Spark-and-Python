{
 "cells": [
  {
   "cell_type": "code",
   "execution_count": 1,
   "id": "30d9c5f0",
   "metadata": {},
   "outputs": [],
   "source": [
    "from pyspark.sql import SparkSession\n",
    "\n",
    "DIRPATH = \"C:/Users/sanjay s risbud/Downloads/sundog/\"\n",
    "spark = SparkSession.builder.master(\"local\").appName(\"Exercise\").getOrCreate()"
   ]
  },
  {
   "cell_type": "code",
   "execution_count": 18,
   "id": "a99e2101",
   "metadata": {},
   "outputs": [
    {
     "name": "stdout",
     "output_type": "stream",
     "text": [
      "+----+-------------+\n",
      "|hero|appeared_with|\n",
      "+----+-------------+\n",
      "|5988|          748|\n",
      "|5988|         1722|\n",
      "|5988|         3752|\n",
      "|5988|         4655|\n",
      "|5988|         5743|\n",
      "|5988|         1872|\n",
      "|5988|         3413|\n",
      "|5988|         5527|\n",
      "|5988|         6368|\n",
      "|5988|         6085|\n",
      "|5988|         4319|\n",
      "|5988|         4728|\n",
      "|5988|         1636|\n",
      "|5988|         2397|\n",
      "|5988|         3364|\n",
      "|5988|         4001|\n",
      "|5988|         1614|\n",
      "|5988|         1819|\n",
      "|5988|         1585|\n",
      "|5988|          732|\n",
      "+----+-------------+\n",
      "only showing top 20 rows\n",
      "\n"
     ]
    }
   ],
   "source": [
    "from pyspark.sql.functions import split, explode, array\n",
    "lines = spark.read.text(DIRPATH + \"marvel-graph.txt\")\n",
    "lines = lines.withColumn(\"parsed\", split(lines[\"value\"], \" \", limit=2))\n",
    "lines = lines.withColumn(\"hero\", lines[\"parsed\"][0]).withColumn(\"appeared_with\", explode(split(lines[\"parsed\"][1], \" \")))\n",
    "df = lines.select([\"hero\", \"appeared_with\"])\n",
    "df.show()"
   ]
  },
  {
   "cell_type": "code",
   "execution_count": 30,
   "id": "aefd3ea7",
   "metadata": {},
   "outputs": [
    {
     "data": {
      "text/plain": [
       "Row(max(count)=1937, min(count)=1)"
      ]
     },
     "execution_count": 30,
     "metadata": {},
     "output_type": "execute_result"
    }
   ],
   "source": [
    "from pyspark.sql.functions import max, min, lit\n",
    "grouped_df = df.groupBy(\"hero\").count()\n",
    "stats = grouped_df.select(max(\"count\"), min(\"count\")).first()\n",
    "stats"
   ]
  },
  {
   "cell_type": "code",
   "execution_count": 39,
   "id": "a738a788",
   "metadata": {},
   "outputs": [
    {
     "name": "stdout",
     "output_type": "stream",
     "text": [
      "+----+-----+---------------+\n",
      "|hero|count|        remarks|\n",
      "+----+-----+---------------+\n",
      "| 859| 1937| Most Connected|\n",
      "| 467|    1|Least Connected|\n",
      "| 577|    1|Least Connected|\n",
      "|3490|    1|Least Connected|\n",
      "|3489|    1|Least Connected|\n",
      "|2139|    1|Least Connected|\n",
      "|1089|    1|Least Connected|\n",
      "|1841|    1|Least Connected|\n",
      "|4517|    1|Least Connected|\n",
      "|5028|    1|Least Connected|\n",
      "| 835|    1|Least Connected|\n",
      "|1408|    1|Least Connected|\n",
      "|4784|    1|Least Connected|\n",
      "|4945|    1|Least Connected|\n",
      "|4602|    1|Least Connected|\n",
      "|6411|    1|Least Connected|\n",
      "|3014|    1|Least Connected|\n",
      "|3298|    1|Least Connected|\n",
      "|2911|    1|Least Connected|\n",
      "|2117|    1|Least Connected|\n",
      "+----+-----+---------------+\n",
      "\n"
     ]
    }
   ],
   "source": [
    "most_df = grouped_df.filter(grouped_df[\"count\"] == stats[0]).withColumn(\"remarks\", lit(\"Most Connected\"))\n",
    "least_df = grouped_df.filter(grouped_df[\"count\"] == stats[1]).withColumn(\"remarks\", lit(\"Least Connected\"))\n",
    "stats_df = most_df.union(least_df)\n",
    "stats_df.show()"
   ]
  },
  {
   "cell_type": "code",
   "execution_count": 41,
   "id": "64578693",
   "metadata": {},
   "outputs": [
    {
     "name": "stdout",
     "output_type": "stream",
     "text": [
      "+----+-----+---------------+--------------------+\n",
      "|hero|count|        remarks|                name|\n",
      "+----+-----+---------------+--------------------+\n",
      "| 859| 1937| Most Connected|     CAPTAIN AMERICA|\n",
      "| 467|    1|Least Connected|        BERSERKER II|\n",
      "| 577|    1|Least Connected|              BLARE/|\n",
      "|3490|    1|Least Connected|MARVEL BOY II/MARTIN|\n",
      "|3489|    1|Least Connected|MARVEL BOY/MARTIN BU|\n",
      "|2139|    1|Least Connected|      GIURESCU, RADU|\n",
      "|1089|    1|Least Connected|       CLUMSY FOULUP|\n",
      "|1841|    1|Least Connected|              FENRIS|\n",
      "|4517|    1|Least Connected|              RANDAK|\n",
      "|5028|    1|Least Connected|           SHARKSKIN|\n",
      "| 835|    1|Least Connected|     CALLAHAN, DANNY|\n",
      "|1408|    1|Least Connected|         DEATHCHARGE|\n",
      "|4784|    1|Least Connected|                RUNE|\n",
      "|4945|    1|Least Connected|         SEA LEOPARD|\n",
      "|4602|    1|Least Connected|         RED WOLF II|\n",
      "|6411|    1|Least Connected|              ZANTOR|\n",
      "|3014|    1|Least Connected|JOHNSON, LYNDON BAIN|\n",
      "|3298|    1|Least Connected|          LUNATIK II|\n",
      "|2911|    1|Least Connected|                KULL|\n",
      "|2117|    1|Least Connected|GERVASE, LADY ALYSSA|\n",
      "+----+-----+---------------+--------------------+\n",
      "\n"
     ]
    }
   ],
   "source": [
    "from pyspark.sql.types import StructType, IntegerType, StringType\n",
    "schema  = StructType().add(\"hero\", IntegerType(), nullable=True).add(\"name\", StringType(), nullable=True)\n",
    "names_df = spark.read.csv(DIRPATH + \"marvel-names.txt\", sep=\" \", schema=schema)\n",
    "final_df = stats_df.join(names_df, on=\"hero\")\n",
    "final_df.show()"
   ]
  },
  {
   "cell_type": "code",
   "execution_count": 42,
   "id": "5800ec8e",
   "metadata": {},
   "outputs": [],
   "source": [
    "spark.stop()"
   ]
  }
 ],
 "metadata": {
  "kernelspec": {
   "display_name": "Python 3 (ipykernel)",
   "language": "python",
   "name": "python3"
  },
  "language_info": {
   "codemirror_mode": {
    "name": "ipython",
    "version": 3
   },
   "file_extension": ".py",
   "mimetype": "text/x-python",
   "name": "python",
   "nbconvert_exporter": "python",
   "pygments_lexer": "ipython3",
   "version": "3.9.6"
  }
 },
 "nbformat": 4,
 "nbformat_minor": 5
}
